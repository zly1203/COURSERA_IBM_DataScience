{
 "cells": [
  {
   "cell_type": "markdown",
   "id": "9c8426b9-c76b-4e24-a914-571dba999193",
   "metadata": {},
   "source": [
    "# Data Science Tools and Ecosystem"
   ]
  },
  {
   "cell_type": "markdown",
   "id": "26f871f1-9b9d-4f9b-8775-f88bd89b9d1a",
   "metadata": {},
   "source": [
    "In this notebook, Data Science Tools and Ecosystem are summarized."
   ]
  },
  {
   "cell_type": "markdown",
   "id": "1de5320f-56b6-493d-9797-7bb646867922",
   "metadata": {},
   "source": [
    "**Objectives:**\n",
    "\n",
    "- List popular languages for Data Science  \n",
    "- Identify commonly used libraries in Data Science  \n",
    "- Create and format markdown cells in Jupyter Notebooks  \n",
    "- Perform arithmetic operations in code cells  \n",
    "- Use Jupyter Notebook to document Data Science workflows  \n"
   ]
  },
  {
   "cell_type": "markdown",
   "id": "a12876cb-b12d-444d-84d6-2f3d8d129a3c",
   "metadata": {},
   "source": [
    "Some of the popular languages that Data Scientists user are:\n",
    "1. R\n",
    "2. Python\n",
    "3. SQL"
   ]
  },
  {
   "cell_type": "markdown",
   "id": "a3260ba5-6835-4b05-a3f2-04237c86502f",
   "metadata": {},
   "source": [
    "| Data Science Tools       |\n",
    "|--------------------------|\n",
    "| Jupyter Notebook         |\n",
    "| RStudio                  |\n",
    "| Visual Studio Code (VS Code) |\n",
    "\n"
   ]
  },
  {
   "cell_type": "markdown",
   "id": "3d3b7c88-2b31-4786-9a37-dea17f1c7ad3",
   "metadata": {},
   "source": [
    "### Below are a few examples of evaluating arithmetic expressions in Python.\n"
   ]
  },
  {
   "cell_type": "code",
   "execution_count": 3,
   "id": "692e9791-4aa8-412b-8959-1c942a1829e1",
   "metadata": {},
   "outputs": [
    {
     "data": {
      "text/plain": [
       "17"
      ]
     },
     "execution_count": 3,
     "metadata": {},
     "output_type": "execute_result"
    }
   ],
   "source": [
    "# This is a simple arithmetic expression to multiply then add integers.\n",
    "(3*4)+5"
   ]
  },
  {
   "cell_type": "code",
   "execution_count": 4,
   "id": "b70a8eec-fc78-4757-8f15-8022c5039b48",
   "metadata": {},
   "outputs": [
    {
     "data": {
      "text/plain": [
       "3.3333333333333335"
      ]
     },
     "execution_count": 4,
     "metadata": {},
     "output_type": "execute_result"
    }
   ],
   "source": [
    "# This will convert 200 minutes to hours by dividing by 60.\n",
    "200/60"
   ]
  },
  {
   "cell_type": "markdown",
   "id": "a77035f5-8008-4b39-a285-14db53fc4509",
   "metadata": {},
   "source": [
    "## Author\n",
    "Liying"
   ]
  },
  {
   "cell_type": "code",
   "execution_count": null,
   "id": "244fd82c-b3ed-4dae-8240-51c26139f498",
   "metadata": {},
   "outputs": [],
   "source": []
  }
 ],
 "metadata": {
  "kernelspec": {
   "display_name": "Python 3 (ipykernel)",
   "language": "python",
   "name": "python3"
  },
  "language_info": {
   "codemirror_mode": {
    "name": "ipython",
    "version": 3
   },
   "file_extension": ".py",
   "mimetype": "text/x-python",
   "name": "python",
   "nbconvert_exporter": "python",
   "pygments_lexer": "ipython3",
   "version": "3.11.7"
  }
 },
 "nbformat": 4,
 "nbformat_minor": 5
}
